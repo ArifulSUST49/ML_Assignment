{
  "cells": [
    {
      "cell_type": "markdown",
      "metadata": {
        "id": "tE7vhLhUGGDO"
      },
      "source": [
        "## So let’s begin here…"
      ]
    },
    {
      "cell_type": "code",
      "execution_count": 22,
      "metadata": {
        "_cell_guid": "b1076dfc-b9ad-4769-8c92-a6c4dae69d19",
        "_uuid": "8f2839f25d086af736a60e9eeb907d3b93b6e0e5",
        "id": "LFnfqM2KGGDP"
      },
      "outputs": [],
      "source": [
        "import numpy as np\n",
        "import pandas as pd\n",
        "import matplotlib.pyplot as plt\n",
        "\n",
        "from PIL import Image\n",
        "\n",
        "from keras.models import Sequential\n",
        "from keras.layers import Conv2D\n",
        "from keras.layers import MaxPooling2D\n",
        "from keras.layers import Flatten\n",
        "from keras.layers import Dense\n",
        "from keras.preprocessing.image import ImageDataGenerator, load_img\n",
        "\n",
        "import os"
      ]
    },
    {
      "cell_type": "code",
      "source": [
        "from google.colab import drive\n",
        "drive.mount('/content/drive')"
      ],
      "metadata": {
        "colab": {
          "base_uri": "https://localhost:8080/"
        },
        "id": "q2Do_UanGO_O",
        "outputId": "459777b6-eb03-4504-e801-78abcb485b91"
      },
      "execution_count": 23,
      "outputs": [
        {
          "output_type": "stream",
          "name": "stdout",
          "text": [
            "Drive already mounted at /content/drive; to attempt to forcibly remount, call drive.mount(\"/content/drive\", force_remount=True).\n"
          ]
        }
      ]
    },
    {
      "cell_type": "markdown",
      "metadata": {
        "id": "ZIFBRktWGGDT"
      },
      "source": [
        "## Load Data"
      ]
    },
    {
      "cell_type": "code",
      "execution_count": 24,
      "metadata": {
        "id": "AjxsHx60GGDU"
      },
      "outputs": [],
      "source": [
        "train_folder= '/content/drive/MyDrive/dataset/Archive/train'\n",
        "val_folder = '/content/drive/MyDrive/dataset/Archive/val'\n",
        "test_folder = '/content/drive/MyDrive/dataset/Archive/test'"
      ]
    },
    {
      "cell_type": "markdown",
      "metadata": {
        "id": "8mT-fqdHGGDU"
      },
      "source": [
        "### Train Data"
      ]
    },
    {
      "cell_type": "code",
      "execution_count": 25,
      "metadata": {
        "id": "iV1RR1XxGGDV"
      },
      "outputs": [],
      "source": [
        "train_n = train_folder+'NORMAL/'\n",
        "train_p = train_folder+'PNEUMONIA/'"
      ]
    },
    {
      "cell_type": "markdown",
      "metadata": {
        "id": "rdYrzgL8GGDX"
      },
      "source": [
        "## Defining Model"
      ]
    },
    {
      "cell_type": "code",
      "execution_count": 26,
      "metadata": {
        "id": "3C6MKsmCGGDX"
      },
      "outputs": [],
      "source": [
        "cnn_model = Sequential()\n",
        "\n",
        "cnn_model.add(Conv2D(32, (3, 3), activation=\"relu\", input_shape=(150, 150, 3)))\n",
        "cnn_model.add(MaxPooling2D(pool_size = (2, 2)))\n",
        "\n",
        "cnn_model.add(Conv2D(32, (3, 3), activation=\"relu\"))\n",
        "cnn_model.add(MaxPooling2D(pool_size = (2, 2)))\n",
        "\n",
        "cnn_model.add(Flatten())\n",
        "\n",
        "cnn_model.add(Dense(activation = 'relu', units = 128))\n",
        "cnn_model.add(Dense(activation = 'sigmoid', units = 1))"
      ]
    },
    {
      "cell_type": "markdown",
      "metadata": {
        "id": "Q130MAibGGDX"
      },
      "source": [
        "## Compile Model"
      ]
    },
    {
      "cell_type": "code",
      "execution_count": 29,
      "metadata": {
        "id": "s0ictJXSGGDY"
      },
      "outputs": [],
      "source": [
        "cnn_model.compile(optimizer = 'adam', loss = 'binary_crossentropy', metrics = ['accuracy'])"
      ]
    },
    {
      "cell_type": "code",
      "execution_count": 30,
      "metadata": {
        "id": "xERn9HEjGGDY"
      },
      "outputs": [],
      "source": [
        "train_datagen = ImageDataGenerator(rescale = 1./255,\n",
        "                                   shear_range = 0.2,\n",
        "                                   zoom_range = 0.2,\n",
        "                                   horizontal_flip = True)\n",
        "test_datagen = ImageDataGenerator(rescale = 1./255,\n",
        "                                   shear_range = 0.2,\n",
        "                                   zoom_range = 0.2,\n",
        "                                   horizontal_flip = True)\n",
        "\n",
        "validation_datagen = ImageDataGenerator(rescale = 1./255,\n",
        "                                   shear_range = 0.2,\n",
        "                                   zoom_range = 0.2,\n",
        "                                   horizontal_flip = True)\n",
        ""
      ]
    },
    {
      "cell_type": "code",
      "execution_count": 31,
      "metadata": {
        "colab": {
          "base_uri": "https://localhost:8080/"
        },
        "id": "zRaJGPk3GGDZ",
        "outputId": "8d66b9e5-6f90-411d-be25-28cc04fe1a64"
      },
      "outputs": [
        {
          "output_type": "stream",
          "name": "stdout",
          "text": [
            "Found 5216 images belonging to 2 classes.\n",
            "Found 16 images belonging to 2 classes.\n",
            "Found 624 images belonging to 2 classes.\n"
          ]
        }
      ],
      "source": [
        "\n",
        "train_set = train_datagen.flow_from_directory(train_folder,\n",
        "                                              target_size = (150, 150),\n",
        "                                              batch_size = 32,\n",
        "                                              class_mode = 'binary')\n",
        "\n",
        "validation_set = validation_datagen.flow_from_directory(val_folder,\n",
        "                                                        target_size=(150, 150),\n",
        "                                                        batch_size=32,\n",
        "                                                        class_mode='binary')\n",
        "\n",
        "test_set = test_datagen.flow_from_directory(test_folder,\n",
        "                                            target_size = (150, 150),\n",
        "                                            batch_size = 32,\n",
        "                                            class_mode = 'binary')"
      ]
    },
    {
      "cell_type": "markdown",
      "metadata": {
        "id": "jC-I72IEGGDZ"
      },
      "source": [
        "## Fit Model"
      ]
    },
    {
      "cell_type": "code",
      "execution_count": 32,
      "metadata": {
        "colab": {
          "base_uri": "https://localhost:8080/"
        },
        "id": "2AX2ehkVGGDZ",
        "outputId": "d2eadfae-0da4-4f11-ac0c-2deb1a99afb6"
      },
      "outputs": [
        {
          "output_type": "stream",
          "name": "stdout",
          "text": [
            "Epoch 1/10\n",
            "163/163 [==============================] - ETA: 0s - loss: 0.4482 - accuracy: 0.8027"
          ]
        },
        {
          "output_type": "stream",
          "name": "stderr",
          "text": [
            "WARNING:tensorflow:Your input ran out of data; interrupting training. Make sure that your dataset or generator can generate at least `steps_per_epoch * epochs` batches (in this case, 624 batches). You may need to use the repeat() function when building your dataset.\n"
          ]
        },
        {
          "output_type": "stream",
          "name": "stdout",
          "text": [
            "\b\b\b\b\b\b\b\b\b\b\b\b\b\b\b\b\b\b\b\b\b\b\b\b\b\b\b\b\b\b\b\b\b\b\b\b\b\b\b\b\b\b\b\b\b\b\b\b\b\b\b\b\b\b\b\b\b\b\b\b\b\b\b\b\b\b\b\b\b\b\b\b\b\b\b\b\b\b\b\b\b\b\b\b\r163/163 [==============================] - 546s 3s/step - loss: 0.4482 - accuracy: 0.8027 - val_loss: 0.5353 - val_accuracy: 0.8750\n",
            "Epoch 2/10\n",
            "163/163 [==============================] - 219s 1s/step - loss: 0.2262 - accuracy: 0.9064\n",
            "Epoch 3/10\n",
            "163/163 [==============================] - 219s 1s/step - loss: 0.1861 - accuracy: 0.9237\n",
            "Epoch 4/10\n",
            "163/163 [==============================] - 217s 1s/step - loss: 0.1674 - accuracy: 0.9327\n",
            "Epoch 5/10\n",
            "163/163 [==============================] - 221s 1s/step - loss: 0.1517 - accuracy: 0.9371\n",
            "Epoch 6/10\n",
            "163/163 [==============================] - 216s 1s/step - loss: 0.1425 - accuracy: 0.9429\n",
            "Epoch 7/10\n",
            "163/163 [==============================] - 215s 1s/step - loss: 0.1413 - accuracy: 0.9473\n",
            "Epoch 8/10\n",
            "163/163 [==============================] - 224s 1s/step - loss: 0.1450 - accuracy: 0.9450\n",
            "Epoch 9/10\n",
            "163/163 [==============================] - 222s 1s/step - loss: 0.1449 - accuracy: 0.9456\n",
            "Epoch 10/10\n",
            "163/163 [==============================] - 244s 1s/step - loss: 0.1415 - accuracy: 0.9440\n"
          ]
        }
      ],
      "source": [
        "cnn_model_his = cnn_model.fit(train_set,\n",
        "                              steps_per_epoch = 163,\n",
        "                              epochs = 10,\n",
        "                              validation_data = validation_set,\n",
        "                              validation_steps = 624)"
      ]
    },
    {
      "cell_type": "markdown",
      "metadata": {
        "id": "5vZdPXOPGGDa"
      },
      "source": [
        "## Evaluate Model"
      ]
    },
    {
      "cell_type": "markdown",
      "metadata": {
        "id": "KP6rGYSUGGDa"
      },
      "source": [
        "### Accuracy"
      ]
    },
    {
      "cell_type": "code",
      "execution_count": null,
      "metadata": {
        "id": "URWruZ4JGGDa",
        "outputId": "b49002bb-bf78-45bf-9278-c9aa9bf33d22"
      },
      "outputs": [
        {
          "name": "stdout",
          "output_type": "stream",
          "text": [
            "The testing accuracy is : 91.36195778846741 %\n"
          ]
        }
      ],
      "source": [
        "test_acc = cnn_model.evaluate(test_set)\n",
        "print('The testing accuracy is :',test_acc[1]*100, '%')"
      ]
    },
    {
      "cell_type": "code",
      "execution_count": null,
      "metadata": {
        "id": "i4dkaQ9RGGDb",
        "outputId": "7b95014b-eabd-42d3-eea4-87837d1c3b2b"
      },
      "outputs": [
        {
          "data": {
            "image/png": "[encoded data removed]",
            "text/plain": [
              "<Figure size 432x288 with 1 Axes>"
            ]
          },
          "metadata": {
            "needs_background": "light"
          },
          "output_type": "display_data"
        }
      ],
      "source": [
        "plt.plot(cnn_model_his.history['accuracy'])\n",
        "plt.plot(cnn_model_his.history['val_accuracy'])\n",
        "plt.title('Model Accuracy')\n",
        "plt.ylabel('Accuracy')\n",
        "plt.xlabel('Epoch')\n",
        "plt.legend(['Training set', 'Validation set'], loc='upper left')\n",
        "plt.show()"
      ]
    },
    {
      "cell_type": "markdown",
      "metadata": {
        "id": "U_IDO_x7GGDb"
      },
      "source": [
        "### Loss"
      ]
    },
    {
      "cell_type": "code",
      "execution_count": null,
      "metadata": {
        "id": "yaaoJb-sGGDb",
        "outputId": "8c5c310f-ff88-4805-f3df-b6b80bceb00f"
      },
      "outputs": [
        {
          "data": {
            "image/png": "[encoded data removed]",
            "text/plain": [
              "<Figure size 432x288 with 1 Axes>"
            ]
          },
          "metadata": {
            "needs_background": "light"
          },
          "output_type": "display_data"
        }
      ],
      "source": [
        "plt.plot(cnn_model_his.history['val_loss'])\n",
        "plt.plot(cnn_model_his.history['loss'])\n",
        "plt.title('Model Loss')\n",
        "plt.ylabel('Loss')\n",
        "plt.xlabel('Epoch')\n",
        "plt.legend(['Training set', 'Validation set'], loc='upper left')\n",
        "plt.show()"
      ]
    }
  ],
  "metadata": {
    "kernelspec": {
      "display_name": "Python 3",
      "language": "python",
      "name": "python3"
    },
    "language_info": {
      "codemirror_mode": {
        "name": "ipython",
        "version": 3
      },
      "file_extension": ".py",
      "mimetype": "text/x-python",
      "name": "python",
      "nbconvert_exporter": "python",
      "pygments_lexer": "ipython3",
      "version": "3.6.6"
    },
    "colab": {
      "provenance": []
    }
  },
  "nbformat": 4,
  "nbformat_minor": 0
}